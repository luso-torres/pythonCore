{
 "cells": [
  {
   "cell_type": "code",
   "execution_count": 7,
   "id": "f19704bd-57f2-4598-8629-608b3508ceb6",
   "metadata": {},
   "outputs": [
    {
     "name": "stdout",
     "output_type": "stream",
     "text": [
      "[10, 2] [10, 2]\n"
     ]
    }
   ],
   "source": [
    "#Immutable: once you define it, you cannot change it\n",
    "'''\n",
    "str\n",
    "int\n",
    "float\n",
    "bool\n",
    "bytes\n",
    "tuple\n",
    "'''\n",
    "\n",
    "#Mutable: you can modify it\n",
    "'''\n",
    "list\n",
    "set\n",
    "dict\n",
    "'''\n",
    "\n",
    "#x = (1,2) #<- tuple\n",
    "x = [1,2] #<- list\n",
    "y = x #stores an alyas or a reference to the object X.\n",
    "x[0] = 10 #this changes both objects x and y\n",
    "#x = (1,2,3)\n",
    "print(x,y)"
   ]
  },
  {
   "cell_type": "code",
   "execution_count": 8,
   "id": "b51e74fb-392a-4cd6-b3d4-01c4f3b56591",
   "metadata": {},
   "outputs": [
    {
     "name": "stdout",
     "output_type": "stream",
     "text": [
      "[2, 3, 4, 1, 34, 123, 321, 1]\n",
      "[1, 1, 2, 3, 4, 34, 123, 321]\n"
     ]
    }
   ],
   "source": [
    "#Example\n",
    "def get_largest_numbers(numbers,n):\n",
    "    numbers.sort()\n",
    "\n",
    "    return numbers[-n:]\n",
    "\n",
    "nums = [2,3,4,1,34,123, 321, 1]\n",
    "\n",
    "print(nums)\n",
    "largest = get_largest_numbers(nums,2)\n",
    "print(nums)"
   ]
  },
  {
   "cell_type": "code",
   "execution_count": 15,
   "id": "16431dc9-0336-4ae2-b9ad-a7f0ee63718e",
   "metadata": {},
   "outputs": [
    {
     "name": "stdout",
     "output_type": "stream",
     "text": [
      "[[], [0], [0, 1], [0, 1, 2], [0, 1, 2, 3], [0, 1, 2, 3, 4], [0, 1, 2, 3, 4, 5], [0, 1, 2, 3, 4, 5, 6], [0, 1, 2, 3, 4, 5, 6, 7], [0, 1, 2, 3, 4, 5, 6, 7, 8]]\n"
     ]
    }
   ],
   "source": [
    "# List comprehensions\n",
    "x = [i for i in range(10) if i% 2 == 0 ]#you can create lists inside lists.\n",
    "y = [[j for j in range(i)] for i in range(10)]\n",
    "\n",
    "print(y)"
   ]
  },
  {
   "cell_type": "code",
   "execution_count": 28,
   "id": "3e980ea4-142e-4c31-bdf1-f2eb8a9a878a",
   "metadata": {},
   "outputs": [
    {
     "name": "stdout",
     "output_type": "stream",
     "text": [
      "1 3 10\n"
     ]
    }
   ],
   "source": [
    "def complicated_function(x,y,z = 10): #assigments\n",
    "    '''Z is a optional argument in this example, we can assign any value we want '''\n",
    "    print(x,y,z) \n",
    "    pass\n",
    "\n",
    "complicated_function(1,y=3) # positional arguments first, then the assigments "
   ]
  },
  {
   "cell_type": "code",
   "execution_count": 44,
   "id": "eaf0c4ee-bc9d-4fb8-ba8f-7adde3c40ba5",
   "metadata": {},
   "outputs": [
    {
     "name": "stdout",
     "output_type": "stream",
     "text": [
      "(1, 2, 3) {'x': 1, 's': 'hello', 'b': True}\n"
     ]
    }
   ],
   "source": [
    "#A higher complexity\n",
    "def complicated_function(*args, **kwargs):\n",
    "    ''' args just picks whaterever you insert\n",
    "    and inserts it into a tuple'''\n",
    "    ''' kwargs insert the arguments inside a dictionary'''\n",
    "    ''' {'x': 1, 's': 'hello', 'b': True}\n",
    "    extremely useful if you dont know which arguments are being passed'''\n",
    "    print(args,kwargs)\n",
    "    pass\n",
    "\n",
    "complicated_function(1,2,3, x = 1, s = \"hello\", b = True)"
   ]
  },
  {
   "cell_type": "code",
   "execution_count": 51,
   "id": "70b57278-3eba-454b-832a-43578fe1e823",
   "metadata": {},
   "outputs": [
    {
     "name": "stdout",
     "output_type": "stream",
     "text": [
      "1 2 Hello cool\n"
     ]
    }
   ],
   "source": [
    "#A higher complexity\n",
    "def complicated_function(a,b,c = True,d = False):\n",
    "    ''' *[1,2] decomposes the list arguments\n",
    "    **{\"c\": \"Hello\", \"d\":\"cool\"} are just rewriting the values of\n",
    "                                 the keyworkds'''\n",
    "    print(a,b,c,d)\n",
    "    pass\n",
    "\n",
    "complicated_function(*[1,2], **{\"c\": \"Hello\", \"d\":\"cool\"})"
   ]
  },
  {
   "cell_type": "code",
   "execution_count": 53,
   "id": "7eb7b253-b569-4725-b3b3-407a307f0f9f",
   "metadata": {},
   "outputs": [
    {
     "name": "stdout",
     "output_type": "stream",
     "text": [
      "run\n"
     ]
    }
   ],
   "source": [
    "def add(a,b):\n",
    "    return a+b\n",
    "\n",
    "if __name__ == \"__main__\":\n",
    "    print(\"run\")"
   ]
  },
  {
   "cell_type": "code",
   "execution_count": null,
   "id": "48f00969-3e86-463b-bda7-c62f664963b7",
   "metadata": {},
   "outputs": [],
   "source": [
    "}"
   ]
  }
 ],
 "metadata": {
  "kernelspec": {
   "display_name": "Python 3 (ipykernel)",
   "language": "python",
   "name": "python3"
  },
  "language_info": {
   "codemirror_mode": {
    "name": "ipython",
    "version": 3
   },
   "file_extension": ".py",
   "mimetype": "text/x-python",
   "name": "python",
   "nbconvert_exporter": "python",
   "pygments_lexer": "ipython3",
   "version": "3.11.9"
  }
 },
 "nbformat": 4,
 "nbformat_minor": 5
}
