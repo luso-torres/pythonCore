{
 "cells": [
  {
   "cell_type": "code",
   "execution_count": null,
   "id": "f19704bd-57f2-4598-8629-608b3508ceb6",
   "metadata": {},
   "outputs": [],
   "source": []
  }
 ],
 "metadata": {
  "kernelspec": {
   "display_name": "Python 3 (ipykernel)",
   "language": "python",
   "name": "python3"
  },
  "language_info": {
   "name": ""
  }
 },
 "nbformat": 4,
 "nbformat_minor": 5
}
